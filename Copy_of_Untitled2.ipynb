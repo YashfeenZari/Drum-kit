{
  "nbformat": 4,
  "nbformat_minor": 0,
  "metadata": {
    "colab": {
      "provenance": [],
      "authorship_tag": "ABX9TyPSIloRg2wFxKCiMT2xNmMa",
      "include_colab_link": true
    },
    "kernelspec": {
      "name": "python3",
      "display_name": "Python 3"
    },
    "language_info": {
      "name": "python"
    }
  },
  "cells": [
    {
      "cell_type": "markdown",
      "metadata": {
        "id": "view-in-github",
        "colab_type": "text"
      },
      "source": [
        "<a href=\"https://colab.research.google.com/github/YashfeenZari/Drum-kit/blob/main/Copy_of_Untitled2.ipynb\" target=\"_parent\"><img src=\"https://colab.research.google.com/assets/colab-badge.svg\" alt=\"Open In Colab\"/></a>"
      ]
    },
    {
      "cell_type": "code",
      "execution_count": null,
      "metadata": {
        "id": "1zYx-2kebF0c"
      },
      "outputs": [],
      "source": [
        "def aStarAlgo(start_node, stop_node, graph):\n",
        "  open_set = set(start_node)\n",
        "  closed_set = set()\n",
        "  g = {} \n",
        "  parents = {} \n",
        "  g[start_node] = 0\n",
        "  parents[start_node] = start_node\n",
        "\n",
        "  while len(open_set) > 0:\n",
        "    n = None\n",
        "    for v in open_set:\n",
        "      if n == None or g[v] + heuristic(v) < g[n] + heuristic(n):\n",
        "         n = v\n",
        "    if n == stop_node or graph[n] == None:\n",
        "       pass\n",
        "    else:\n",
        "      for (m, weight) in get_neighbors(n, graph):\n",
        "        if m not in open_set and m not in closed_set:\n",
        "          open_set.add(m)\n",
        "          parents[m] = n\n",
        "          g[m] = g[n] + weight\n",
        "        \n",
        "        else:\n",
        "          if g[m] > g[n] + weight:\n",
        "            g[m] = g[n] + weight\n",
        "            parents[m] = n\n",
        "            if m in closed_set:\n",
        "              closed_set.remove(m)\n",
        "              open_set.add(m)\n",
        "\n",
        "    if n == None:\n",
        "      print('Path does not exist!')\n",
        "      return None\n",
        "\n",
        "    if n == stop_node:\n",
        "      path = []\n",
        "      while parents[n] != n :\n",
        "        path.append(n)\n",
        "        n = parents[n]\n",
        "      path.append(start_node)\n",
        "      path.reverse()\n",
        "      print('Path found: {}'.format(path))\n",
        "      return None\n",
        "    open_set.remove(n)\n",
        "    closed_set.add(n)\n",
        "  print('Path does not exist!')\n",
        "  return None\n",
        "\n",
        "          \n",
        "            \n",
        "          \n",
        "\n"
      ]
    },
    {
      "cell_type": "code",
      "source": [
        "def get_neighbors(v, graph):\n",
        "  if v in graph:\n",
        "    return graph[v]\n",
        "  else:\n",
        "    return None"
      ],
      "metadata": {
        "id": "CRwMNzLTg-pt"
      },
      "execution_count": null,
      "outputs": []
    },
    {
      "cell_type": "code",
      "source": [
        "def heuristic(n):\n",
        "  if n in Graph_nodes1:\n",
        "    H_dist = {\n",
        "  'A': 11,\n",
        "  'B': 6,\n",
        "  'C': 5,\n",
        "  'D': 7,\n",
        "  'E': 3,\n",
        "  'F': 6,\n",
        "  'G': 5,\n",
        "  'H': 3,\n",
        "  'I': 1,\n",
        "  'J': 0\n",
        "  }\n",
        "  else:\n",
        "    H_dist = {\n",
        "    'A': 14,\n",
        "    'B': 12,\n",
        "    'C': 11,\n",
        "    'D': 6,\n",
        "    'E': 4,\n",
        "    'F': 11,\n",
        "    'Z': 0\n",
        "    }\n",
        "\n",
        "  return H_dist[n]"
      ],
      "metadata": {
        "id": "R2yqgWw-hI38"
      },
      "execution_count": null,
      "outputs": []
    },
    {
      "cell_type": "code",
      "source": [
        "Graph_nodes1 = {\n",
        " 'A': [('B', 6), ('F', 3)],\n",
        " 'B': [('C', 3),('D', 2)],\n",
        " 'C': [('E', 5),('D', 1)],\n",
        " 'D': [('E', 8),('C', 1),('B', 2)],\n",
        " 'E': [('I', 5),('C', 5),('D', 8),('J', 5)],\n",
        " 'F': [('A', 3),('H', 7),('G', 1)],\n",
        " 'G': [('F', 1),('I', 3)],\n",
        " 'H': [('I', 2),('F', 7)],\n",
        " 'I': [('H', 2),('G', 3),('J', 3),('E', 5)],\n",
        " 'J': [('E', 5),('I', 3)]\n",
        "}\n"
      ],
      "metadata": {
        "id": "pSYkwQ0khj5D"
      },
      "execution_count": null,
      "outputs": []
    },
    {
      "cell_type": "code",
      "source": [
        "Graph_nodes2 = {\n",
        " 'A': [('B', 4), ('C', 3)],\n",
        " 'B': [('A', 4),('E', 12),('F', 5)],\n",
        " 'C': [('A', 3),('D', 7),('E', 10)],\n",
        " 'D': [('E', 2),('C', 7)],\n",
        " 'E': [('C', 10),('D', 2),('Z', 5)],\n",
        " 'F': [('B', 5),('Z', 16)],\n",
        " 'Z': [('F', 16),('E', 5)]\n",
        "}"
      ],
      "metadata": {
        "id": "UDp1cYVAhmeB"
      },
      "execution_count": null,
      "outputs": []
    },
    {
      "cell_type": "code",
      "source": [
        "\n",
        "start_node=input(\"Enter Start node: \").upper()\n",
        "goal_node=input(\"Enter Goal Node: \").upper()\n",
        "\n",
        "aStarAlgo(start_node,goal_node,Graph_nodes1)\n",
        "\n",
        "\n",
        "start_node=input(\"Enter Start node: \").upper()\n",
        "goal_node=input(\"Enter Goal Node: \").upper()\n",
        "\n",
        "\n",
        "aStarAlgo(start_node,goal_node,Graph_nodes2)"
      ],
      "metadata": {
        "colab": {
          "base_uri": "https://localhost:8080/"
        },
        "id": "vXCcHjoghpkc",
        "outputId": "03f5b6ef-a79e-462b-c28a-b820ad7a4717"
      },
      "execution_count": null,
      "outputs": [
        {
          "output_type": "stream",
          "name": "stdout",
          "text": [
            "Enter Start node: A\n",
            "Enter Goal Node: J\n",
            "Path found: ['A', 'F', 'G', 'I', 'J']\n",
            "Enter Start node: A\n",
            "Enter Goal Node: Z\n",
            "Path found: ['A', 'C', 'D', 'E', 'Z']\n"
          ]
        }
      ]
    }
  ]
}